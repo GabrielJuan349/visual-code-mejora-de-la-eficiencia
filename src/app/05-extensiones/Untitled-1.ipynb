{
 "metadata": {
  "language_info": {
   "codemirror_mode": {
    "name": "ipython",
    "version": 3
   },
   "file_extension": ".py",
   "mimetype": "text/x-python",
   "name": "python",
   "nbconvert_exporter": "python",
   "pygments_lexer": "ipython3",
   "version": "3.8.2-final"
  },
  "orig_nbformat": 2,
  "kernelspec": {
   "name": "python3",
   "display_name": "Python 3.8.2 64-bit",
   "metadata": {
    "interpreter": {
     "hash": "2db524e06e9f5f4ffedc911c917cb75e12dbc923643829bf417064a77eb14d37"
    }
   }
  }
 },
 "nbformat": 4,
 "nbformat_minor": 2,
 "cells": [
  {
   "cell_type": "code",
   "execution_count": null,
   "metadata": {},
   "outputs": [
    {
     "output_type": "error",
     "ename": "Error",
     "evalue": "Pip module Unable to parse debugpy output, please log an issue with https://github.com/microsoft/vscode-jupyter is required for debugging cells. You will need to install it to debug cells.",
     "traceback": [
      "Error: Pip module Unable to parse debugpy output, please log an issue with https://github.com/microsoft/vscode-jupyter is required for debugging cells. You will need to install it to debug cells.",
      "at b.parseConnectInfo (c:\\Users\\gjbet\\.vscode\\extensions\\ms-toolsai.jupyter-2021.2.603412351\\out\\client\\extension.js:49:484873)",
      "at b.connectToLocal (c:\\Users\\gjbet\\.vscode\\extensions\\ms-toolsai.jupyter-2021.2.603412351\\out\\client\\extension.js:49:485400)",
      "at async b.connect (c:\\Users\\gjbet\\.vscode\\extensions\\ms-toolsai.jupyter-2021.2.603412351\\out\\client\\extension.js:49:483277)",
      "at async b.startDebugSession (c:\\Users\\gjbet\\.vscode\\extensions\\ms-toolsai.jupyter-2021.2.603412351\\out\\client\\extension.js:49:482424)",
      "at async f.submitCode (c:\\Users\\gjbet\\.vscode\\extensions\\ms-toolsai.jupyter-2021.2.603412351\\out\\client\\extension.js:32:598348)",
      "at async f.handleRunByLine (c:\\Users\\gjbet\\.vscode\\extensions\\ms-toolsai.jupyter-2021.2.603412351\\out\\client\\extension.js:9:328492)"
     ]
    }
   ],
   "source": [
    "a=[1,2,3]\n",
    "b=a\n",
    "c=a[:]\n",
    "a.pop()\n",
    "b.append(7)\n",
    "print a; print b; print c;\n",
    "\n"
   ]
  }
 ]
}